{
 "cells": [
  {
   "cell_type": "markdown",
   "id": "cbd481f4",
   "metadata": {},
   "source": [
    "# Assignment_6"
   ]
  },
  {
   "cell_type": "code",
   "execution_count": 6,
   "id": "1980376d",
   "metadata": {},
   "outputs": [],
   "source": [
    "import docx"
   ]
  },
  {
   "cell_type": "code",
   "execution_count": 8,
   "id": "d43f0167",
   "metadata": {},
   "outputs": [
    {
     "name": "stdout",
     "output_type": "stream",
     "text": [
      "1. What are escape characters, and how do you use them?\n",
      "2. What do the escape characters n and t stand for?\n",
      "3. What is the way to include backslash characters in a string?\n",
      "4. The string \"Howl's Moving Castle\" is a correct value. Why isn't the single quote character in the word Howl's not escaped a problem?\n",
      "5. How do you write a string of newlines if you don't want to use the n character?\n",
      "6. What are the values of the given expressions?\n",
      "'Hello, world!'[1]\n",
      "'Hello, world!'[0:5]\n",
      "'Hello, world!'[:5]\n",
      "'Hello, world!'[3:]\n",
      "\n",
      "7. What are the values of the following expressions?\n",
      "'Hello'.upper()\n",
      "'Hello'.upper().isupper()\n",
      "'Hello'.upper().lower()\n",
      "8. What are the values of the following expressions?\n",
      "'Remember, remember, the fifth of July.'.split()\n",
      "'-'.join('There can only one.'.split())\n",
      "9. What are the methods for right-justifying, left-justifying, and centering a string?\n",
      "10. What is the best way to remove whitespace characters from the start or end?\n",
      "\n"
     ]
    }
   ],
   "source": [
    "doc = docx.Document('Assignment_6.docx')\n",
    "for i in doc.paragraphs:\n",
    "    print(i.text)"
   ]
  },
  {
   "cell_type": "markdown",
   "id": "7f18e9a5",
   "metadata": {},
   "source": [
    "###### 1. What are escape characters, and how do you use them?"
   ]
  },
  {
   "cell_type": "markdown",
   "id": "73a1aa69",
   "metadata": {},
   "source": [
    "'\\'' : Single Quote  \n",
    "'\\n' : New Line \n",
    "'\\r': Carriage Return \n",
    "'\\t' : Tab "
   ]
  },
  {
   "cell_type": "code",
   "execution_count": 16,
   "id": "4ee3fa97",
   "metadata": {},
   "outputs": [
    {
     "name": "stdout",
     "output_type": "stream",
     "text": [
      "It's Assignment no.6 \n",
      "\n",
      "You can join iNeuron DS Class \n",
      " Sat & sun 3 to 6 p.m. \n",
      "\n",
      "Full\tStack\tData\tScience\tBootcamp\n"
     ]
    }
   ],
   "source": [
    "# \\'\n",
    "print('It\\'s Assignment no.6','\\n')\n",
    "\n",
    "#\\\\\n",
    "print('You can join iNeuron DS Class','\\n','Sat & sun 3 to 6 p.m.','\\n')\n",
    "\n",
    "#\\t\n",
    "print('Full\\tStack\\tData\\tScience\\tBootcamp')"
   ]
  },
  {
   "cell_type": "markdown",
   "id": "91b7890c",
   "metadata": {},
   "source": [
    "###### 2. What do the escape characters n and t stand for?"
   ]
  },
  {
   "cell_type": "code",
   "execution_count": null,
   "id": "0fa1f6e8",
   "metadata": {},
   "outputs": [],
   "source": [
    "'\\n' : New Line \n",
    "'\\t' : Tab "
   ]
  },
  {
   "cell_type": "markdown",
   "id": "2c4bed2d",
   "metadata": {},
   "source": [
    "###### 3. What is the way to include backslash characters in a string?"
   ]
  },
  {
   "cell_type": "code",
   "execution_count": 17,
   "id": "95d32d9b",
   "metadata": {},
   "outputs": [
    {
     "name": "stdout",
     "output_type": "stream",
     "text": [
      "It's Assignment no.6 \n",
      "\n"
     ]
    }
   ],
   "source": [
    "# \\'\n",
    "print('It\\'s Assignment no.6','\\n')"
   ]
  },
  {
   "cell_type": "markdown",
   "id": "c26e94f5",
   "metadata": {},
   "source": [
    "###### 4. The string \"Howl's Moving Castle\" is a correct value. Why isn't the single quote character in the word Howl's not escaped a problem?"
   ]
  },
  {
   "cell_type": "code",
   "execution_count": 20,
   "id": "38691847",
   "metadata": {},
   "outputs": [
    {
     "data": {
      "text/plain": [
       "\"Howl's Moving Castle\""
      ]
     },
     "execution_count": 20,
     "metadata": {},
     "output_type": "execute_result"
    }
   ],
   "source": [
    "\"Howl's Moving Castle\""
   ]
  },
  {
   "cell_type": "code",
   "execution_count": 21,
   "id": "76b39c87",
   "metadata": {},
   "outputs": [
    {
     "name": "stdout",
     "output_type": "stream",
     "text": [
      "Howl's Moving Castle\n"
     ]
    }
   ],
   "source": [
    "print(\"Howl's Moving Castle\")"
   ]
  },
  {
   "cell_type": "markdown",
   "id": "5cf2fc0d",
   "metadata": {},
   "source": [
    "Because we use double quote (\" \") in between the sentance thats why string is correct."
   ]
  },
  {
   "cell_type": "markdown",
   "id": "35fe9826",
   "metadata": {},
   "source": [
    "###### 5. How do you write a string of newlines if you don't want to use the n character?"
   ]
  },
  {
   "cell_type": "code",
   "execution_count": 23,
   "id": "ff70c268",
   "metadata": {},
   "outputs": [
    {
     "data": {
      "text/plain": [
       "'We can use multiline string\\nusing single or \\ndouble quotation.'"
      ]
     },
     "execution_count": 23,
     "metadata": {},
     "output_type": "execute_result"
    }
   ],
   "source": [
    "'''We can use multiline string\n",
    "using single or \n",
    "double quotation.'''"
   ]
  },
  {
   "cell_type": "markdown",
   "id": "6dfa8a5b",
   "metadata": {},
   "source": [
    "###### 6. What are the values of the given expressions?"
   ]
  },
  {
   "cell_type": "code",
   "execution_count": 49,
   "id": "26332a4b",
   "metadata": {},
   "outputs": [
    {
     "name": "stdout",
     "output_type": "stream",
     "text": [
      " 'Hello, world!'[1]   : e \n",
      " 'Hello, world!'[0:5] : Hello \n",
      " 'Hello, world!'[:5]  : Hello \n",
      " 'Hello, world!'[3:]  : lo, world!\n"
     ]
    }
   ],
   "source": [
    "'Hello, world!'[1]\n",
    "'Hello, world!'[0:5]\n",
    "'Hello, world!'[:5]\n",
    "'Hello, world!'[3:]\n",
    "\n",
    "#Ans:\n",
    "print(\" 'Hello, world!'[1]   :\",'Hello, world!'[1],'\\n'\n",
    "      \" 'Hello, world!'[0:5] :\",'Hello, world!'[0:5],'\\n',\n",
    "      \"'Hello, world!'[:5]  :\",'Hello, world!'[:5],'\\n',\n",
    "      \"'Hello, world!'[3:]  :\",'Hello, world!'[3:])"
   ]
  },
  {
   "cell_type": "markdown",
   "id": "869390ca",
   "metadata": {},
   "source": [
    "###### 7. What are the values of the following expressions?"
   ]
  },
  {
   "cell_type": "code",
   "execution_count": 54,
   "id": "568c0e3a",
   "metadata": {},
   "outputs": [
    {
     "name": "stdout",
     "output_type": "stream",
     "text": [
      " 'Hello'.upper()           : HELLO \n",
      " 'Hello'.upper().isupper() : True \n",
      " 'Hello'.upper().lower()   : hello\n"
     ]
    }
   ],
   "source": [
    "'Hello'.upper()\n",
    "'Hello'.upper().isupper()\n",
    "'Hello'.upper().lower()\n",
    "\n",
    "#Ans:\n",
    "print(\" 'Hello'.upper()           :\",'Hello'.upper(),'\\n',\n",
    "     \"'Hello'.upper().isupper() :\",'Hello'.upper().isupper(),'\\n',\n",
    "     \"'Hello'.upper().lower()   :\",'Hello'.upper().lower())"
   ]
  },
  {
   "cell_type": "markdown",
   "id": "1a797957",
   "metadata": {},
   "source": [
    "###### 8. What are the values of the following expressions?"
   ]
  },
  {
   "cell_type": "code",
   "execution_count": 55,
   "id": "5d6f01e6",
   "metadata": {},
   "outputs": [
    {
     "data": {
      "text/plain": [
       "'There-can-only-one.'"
      ]
     },
     "execution_count": 55,
     "metadata": {},
     "output_type": "execute_result"
    }
   ],
   "source": [
    "'Remember, remember, the fifth of July.'.split()\n",
    "'-'.join('There can only one.'.split())"
   ]
  },
  {
   "cell_type": "markdown",
   "id": "d0675cf0",
   "metadata": {},
   "source": [
    "###### 9. What are the methods for right-justifying, left-justifying, and centering a string?"
   ]
  },
  {
   "cell_type": "code",
   "execution_count": 63,
   "id": "97fc63fb",
   "metadata": {},
   "outputs": [
    {
     "name": "stdout",
     "output_type": "stream",
     "text": [
      "justifying methods**********************\n",
      "**********************justifying methods\n",
      "***********justifying methods***********\n"
     ]
    }
   ],
   "source": [
    "string = 'justifying methods'\n",
    "print(string.ljust(40,'*'))\n",
    "print(string.rjust(40,'*'))\n",
    "print(string.center(40,'*'))"
   ]
  },
  {
   "cell_type": "markdown",
   "id": "29d058ff",
   "metadata": {},
   "source": [
    "###### 10. What is the best way to remove whitespace characters from the start or end?"
   ]
  },
  {
   "cell_type": "markdown",
   "id": "ce1f95ee",
   "metadata": {},
   "source": [
    "It's .strip()"
   ]
  },
  {
   "cell_type": "code",
   "execution_count": 75,
   "id": "e2037e94",
   "metadata": {},
   "outputs": [
    {
     "data": {
      "text/plain": [
       "'      characters        '"
      ]
     },
     "execution_count": 75,
     "metadata": {},
     "output_type": "execute_result"
    }
   ],
   "source": [
    "car = '      characters        '\n",
    "car"
   ]
  },
  {
   "cell_type": "code",
   "execution_count": 76,
   "id": "2c546337",
   "metadata": {},
   "outputs": [
    {
     "data": {
      "text/plain": [
       "'characters'"
      ]
     },
     "execution_count": 76,
     "metadata": {},
     "output_type": "execute_result"
    }
   ],
   "source": [
    "car.strip()"
   ]
  },
  {
   "cell_type": "code",
   "execution_count": null,
   "id": "ed824b43",
   "metadata": {},
   "outputs": [],
   "source": []
  }
 ],
 "metadata": {
  "kernelspec": {
   "display_name": "Python 3 (ipykernel)",
   "language": "python",
   "name": "python3"
  },
  "language_info": {
   "codemirror_mode": {
    "name": "ipython",
    "version": 3
   },
   "file_extension": ".py",
   "mimetype": "text/x-python",
   "name": "python",
   "nbconvert_exporter": "python",
   "pygments_lexer": "ipython3",
   "version": "3.9.12"
  }
 },
 "nbformat": 4,
 "nbformat_minor": 5
}
