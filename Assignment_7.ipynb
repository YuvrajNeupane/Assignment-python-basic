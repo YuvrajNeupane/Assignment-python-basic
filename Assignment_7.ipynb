{
 "cells": [
  {
   "cell_type": "markdown",
   "id": "1d369d58",
   "metadata": {},
   "source": [
    "#### Q1. What is the name of the feature responsible for generating Regex objects?"
   ]
  },
  {
   "cell_type": "markdown",
   "id": "0dacaf4d",
   "metadata": {},
   "source": [
    "generating Regex objects is re.compile() function which returns Regex object. <br/>\n",
    "re.compile()"
   ]
  },
  {
   "cell_type": "markdown",
   "id": "0867a977",
   "metadata": {},
   "source": [
    "#### Q2. Why do raw strings often appear in Regex objects?"
   ]
  },
  {
   "cell_type": "markdown",
   "id": "4cc4935c",
   "metadata": {},
   "source": [
    "Because Raw string prevents a string from backlash.<br/> \n",
    "And backslashes do not have to be escaped."
   ]
  },
  {
   "cell_type": "markdown",
   "id": "9e05f009",
   "metadata": {},
   "source": [
    "#### Q3. What is the return value of the search() method?"
   ]
  },
  {
   "cell_type": "markdown",
   "id": "068397ec",
   "metadata": {},
   "source": [
    "search() function search only matching values from object and return the same."
   ]
  },
  {
   "cell_type": "markdown",
   "id": "b9ff52e1",
   "metadata": {},
   "source": [
    "#### Q4. From a Match item, how do you get the actual strings that match the pattern?"
   ]
  },
  {
   "cell_type": "markdown",
   "id": "5a58d873",
   "metadata": {},
   "source": [
    "In Python we have function called (group()), can use this function to get match string."
   ]
  },
  {
   "cell_type": "markdown",
   "id": "ebdd0c24",
   "metadata": {},
   "source": [
    "#### Q5. In the regex which created from the r&#39;(\\d\\d\\d)-(\\d\\d\\d-\\d\\d\\d\\d)&#39;, what does group zero cover? Group 2? Group 1?"
   ]
  },
  {
   "cell_type": "markdown",
   "id": "69eb4025",
   "metadata": {},
   "source": [
    "Group 0 is the entire match<br/>\n",
    "group 1 covers the first set of parentheses<br/> \n",
    "group 2 covers the second set of parentheses."
   ]
  },
  {
   "cell_type": "markdown",
   "id": "12645f5e",
   "metadata": {},
   "source": [
    "#### Q6. In standard expression syntax, parentheses and intervals have distinct meanings. How can you tella regex that you want it to fit real parentheses and periods?"
   ]
  },
  {
   "cell_type": "markdown",
   "id": "b8825c5b",
   "metadata": {},
   "source": [
    "We can use backslash before paranthesis or intervals."
   ]
  },
  {
   "cell_type": "markdown",
   "id": "eedefa77",
   "metadata": {},
   "source": [
    "#### Q7. The findall() method returns a string list or a list of string tuples. What causes it to return one of the two options?"
   ]
  },
  {
   "cell_type": "markdown",
   "id": "d2d89e0a",
   "metadata": {},
   "source": [
    "If the regex has no groups, a list of strings is returned. If the regex has groups, a list of tuples of strings is returned."
   ]
  },
  {
   "cell_type": "markdown",
   "id": "26ed27e7",
   "metadata": {},
   "source": [
    "#### Q8. In standard expressions, what does the | character mean?"
   ]
  },
  {
   "cell_type": "markdown",
   "id": "eed4d226",
   "metadata": {},
   "source": [
    "In Python operator | falls in bitwise operator, and this character work as \"or\" operator."
   ]
  },
  {
   "cell_type": "markdown",
   "id": "bb4e37dd",
   "metadata": {},
   "source": [
    "#### Q9. In regular expressions, what does the character stand for?"
   ]
  },
  {
   "cell_type": "markdown",
   "id": "d7cbdd65",
   "metadata": {},
   "source": [
    "Character plays special role in regex. They are also known as special sequence."
   ]
  },
  {
   "cell_type": "markdown",
   "id": "7437c64d",
   "metadata": {},
   "source": [
    "#### Q10.In regular expressions, what is the difference between the + and * characters?"
   ]
  },
  {
   "cell_type": "markdown",
   "id": "9480c4c5",
   "metadata": {},
   "source": [
    "- (+) symbol matches one or more on left.<br/>\n",
    "- (*) symbol matches zero or more on left."
   ]
  },
  {
   "cell_type": "markdown",
   "id": "94e8daa0",
   "metadata": {},
   "source": [
    "#### Q11. What is the difference between {4} and {4,5} in regular expression?"
   ]
  },
  {
   "cell_type": "markdown",
   "id": "e57ca862",
   "metadata": {},
   "source": [
    "+ The {4} matches exactly three instances of the preceding group.<br/>\n",
    "+ The {4,5} matches between four and five instances."
   ]
  },
  {
   "cell_type": "markdown",
   "id": "65f6450b",
   "metadata": {},
   "source": [
    "#### Q12. What do you mean by the \\d, \\w, and \\s shorthand character classes signify in regular expressions?"
   ]
  },
  {
   "cell_type": "markdown",
   "id": "8794b74d",
   "metadata": {},
   "source": [
    "+ \\d matches a digit from 0-9\n",
    "+ \\w matches alphanumeric character including underscore.\n",
    "+ \\s matches any whitespace character"
   ]
  },
  {
   "cell_type": "markdown",
   "id": "34279c6e",
   "metadata": {},
   "source": [
    "#### Q13. What do means by \\D, \\W, and \\S shorthand character classes signify in regular expressions?"
   ]
  },
  {
   "cell_type": "markdown",
   "id": "ebbb2ede",
   "metadata": {},
   "source": [
    "+ \\D matches non-digit character\n",
    "+ \\W matches non alphanumeric & non-underscore character\n",
    "+ \\S matches non-whitespace character"
   ]
  },
  {
   "cell_type": "markdown",
   "id": "0eb225c7",
   "metadata": {},
   "source": [
    "#### Q14. What is the difference between .(*)? and .?"
   ]
  },
  {
   "cell_type": "markdown",
   "id": "94731253",
   "metadata": {},
   "source": [
    "+ (.) matches any character \n",
    "+ (*) matches 0 or more occurences of patten on left. (greedy)\n",
    "+ (?) matches 0 or 1 occurence of pattern on left. (reluctant)"
   ]
  },
  {
   "cell_type": "markdown",
   "id": "e74b85bb",
   "metadata": {},
   "source": [
    "#### Q15. What is the syntax for matching both numbers and lowercase letters with a character class?"
   ]
  },
  {
   "cell_type": "markdown",
   "id": "a40152b2",
   "metadata": {},
   "source": [
    "+ Either [0-9a-z] or [a-z0-9], We can use any of it."
   ]
  },
  {
   "cell_type": "markdown",
   "id": "c7d6f63c",
   "metadata": {},
   "source": [
    "#### Q16. What is the procedure for making a normal expression in regax case insensitive?"
   ]
  },
  {
   "cell_type": "markdown",
   "id": "8380df80",
   "metadata": {},
   "source": [
    "+ In re.compile() we can pass a flag i.e. pass re.IGNORECASE as second argument"
   ]
  },
  {
   "cell_type": "markdown",
   "id": "2ae71e98",
   "metadata": {},
   "source": [
    "#### Q17. What does the . character normally match? What does it match if re.DOTALL is passed as 2nd argument in re.compile()?"
   ]
  },
  {
   "cell_type": "markdown",
   "id": "df361a86",
   "metadata": {},
   "source": [
    ". matches any character untill newline comes up.<br/>\n",
    "re.DOTALL works as flag in re.compile() and extends the use case of . even in newlines."
   ]
  },
  {
   "cell_type": "markdown",
   "id": "c8ec3301",
   "metadata": {},
   "source": [
    "##### Q18. If numReg = re.compile(r&#39;\\d+&#39;), what will numRegex.sub(&#39;X&#39;, &#39;11 drummers, 10 pipers, five rings, 4 hen&#39;) return?"
   ]
  },
  {
   "cell_type": "code",
   "execution_count": 10,
   "id": "10e1dd26",
   "metadata": {},
   "outputs": [],
   "source": [
    "import re\n",
    "num_re = re.compile(r'\\d+')"
   ]
  },
  {
   "cell_type": "code",
   "execution_count": 12,
   "id": "0c13e640",
   "metadata": {},
   "outputs": [
    {
     "data": {
      "text/plain": [
       "'Hey more for him, Hey for them, rest all of for you, no more!'"
      ]
     },
     "execution_count": 12,
     "metadata": {},
     "output_type": "execute_result"
    }
   ],
   "source": [
    "num_re.sub('Hey', '1 more for him, 2 for them, rest all of for you, no more!')"
   ]
  },
  {
   "cell_type": "markdown",
   "id": "8eee84dd",
   "metadata": {},
   "source": [
    "#### Q19. What does passing re.VERBOSE as the 2nd argument to re.compile() allow to do?"
   ]
  },
  {
   "cell_type": "markdown",
   "id": "29bf267c",
   "metadata": {},
   "source": [
    "The re.VERBOSE argument allows you to add whitespace and comments to the string passed to re.compile()."
   ]
  },
  {
   "cell_type": "markdown",
   "id": "2757b026",
   "metadata": {},
   "source": [
    "#### Q20. How would you write a regex that match a number with comma for every three digits? It must match the given following:\n",
    "    '42'\n",
    "    '1,234'\n",
    "    '6,368,745'\n",
    "    but not the following:\n",
    "    '12,34,567' (which has only two digits between the commas)\n",
    "    '1234' (which lacks commas)"
   ]
  },
  {
   "cell_type": "markdown",
   "id": "f91d3548",
   "metadata": {},
   "source": [
    "+ re.compile(r'^\\d{1,3}(,\\d{3})*$') will create this regex, but other regex strings can produce a similar regular expression."
   ]
  },
  {
   "cell_type": "markdown",
   "id": "f176974e",
   "metadata": {},
   "source": [
    "#### Q21. How would you write a regex that matches the full name of someone whose last name is Watanabe? You can assume that the first name that comes before it will always be one word that begins with a capital letter. The regex must match the following:\n",
    "\n",
    "    'Haruto Watanabe'\n",
    "    'Alice Watanabe'\n",
    "    'RoboCop Watanabe'\n",
    "    but not the following:\n",
    "    'haruto Watanabe' (where the first name is not capitalized)\n",
    "    'Mr. Watanabe' (where the preceding word has a nonletter character)\n",
    "    'Watanabe' (which has no first name)\n",
    "    'Haruto watanabe' (where Watanabe is not capitalized)"
   ]
  },
  {
   "cell_type": "markdown",
   "id": "e5e19f54",
   "metadata": {},
   "source": [
    "+ re.compile(r'[A-Z][a-z]*\\sWatanabe')"
   ]
  },
  {
   "cell_type": "markdown",
   "id": "1c26d6f3",
   "metadata": {},
   "source": [
    "#### Q22. How would you write a regex that matches a sentence where the first word is either Alice, Bob, or Carol; the second word is either eats, pets, or throws; the third word is apples, cats, or baseballs; and the sentence ends with a period? This regex should be case-insensitive. It must match the following:\n",
    "\n",
    "    'Alice eats apples.'\n",
    "    'Bob pets cats.'\n",
    "    'Carol throws baseballs.'\n",
    "    'Alice throws Apples.'\n",
    "    'BOB EATS CATS.'\n",
    "    but not the following:\n",
    "    'RoboCop eats apples.'\n",
    "    'ALICE THROWS FOOTBALLS.'\n",
    "    'Carol eats 7 cats.'\n",
    "\n"
   ]
  },
  {
   "cell_type": "markdown",
   "id": "d050b3b8",
   "metadata": {},
   "source": [
    "+ re.compile(r'(Alice|Bob|Carol)\\s(eats|pets|throws)\\s(apples|cats|baseballs).', re.IGNORECASE)"
   ]
  },
  {
   "cell_type": "markdown",
   "id": "1b8595c2",
   "metadata": {},
   "source": [
    "# Thank you!"
   ]
  }
 ],
 "metadata": {
  "kernelspec": {
   "display_name": "Python 3 (ipykernel)",
   "language": "python",
   "name": "python3"
  },
  "language_info": {
   "codemirror_mode": {
    "name": "ipython",
    "version": 3
   },
   "file_extension": ".py",
   "mimetype": "text/x-python",
   "name": "python",
   "nbconvert_exporter": "python",
   "pygments_lexer": "ipython3",
   "version": "3.9.13"
  }
 },
 "nbformat": 4,
 "nbformat_minor": 5
}
