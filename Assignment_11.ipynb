{
 "cells": [
  {
   "cell_type": "markdown",
   "id": "77ad496a",
   "metadata": {},
   "source": [
    "#### Q1. Create an assert statement that throws an AssertionError if the variable spam is a negative integer."
   ]
  },
  {
   "cell_type": "code",
   "execution_count": 4,
   "id": "88bc0147",
   "metadata": {},
   "outputs": [
    {
     "ename": "AssertionError",
     "evalue": "The spam variable is is a negative integer.",
     "output_type": "error",
     "traceback": [
      "\u001b[1;31m---------------------------------------------------------------------------\u001b[0m",
      "\u001b[1;31mAssertionError\u001b[0m                            Traceback (most recent call last)",
      "Cell \u001b[1;32mIn [4], line 2\u001b[0m\n\u001b[0;32m      1\u001b[0m spam \u001b[38;5;241m=\u001b[39m \u001b[38;5;241m-\u001b[39m\u001b[38;5;241m55\u001b[39m\n\u001b[1;32m----> 2\u001b[0m \u001b[38;5;28;01massert\u001b[39;00m spam \u001b[38;5;241m>\u001b[39m \u001b[38;5;241m0\u001b[39m, \u001b[38;5;124m'\u001b[39m\u001b[38;5;124mThe spam variable is is a negative integer.\u001b[39m\u001b[38;5;124m'\u001b[39m\n",
      "\u001b[1;31mAssertionError\u001b[0m: The spam variable is is a negative integer."
     ]
    }
   ],
   "source": [
    "spam = -55\n",
    "assert spam > 0, 'The spam variable is is a negative integer.'"
   ]
  },
  {
   "cell_type": "markdown",
   "id": "aa0d570c",
   "metadata": {},
   "source": [
    "#### Q2. Write an assert statement that triggers an AssertionError if the variables eggs and bacon contain strings that are the same as each other, even if their cases are different (that is, 'hello' and 'hello' are considered the same, and 'goodbye' and 'GOODbye' are also considered the same)."
   ]
  },
  {
   "cell_type": "code",
   "execution_count": 7,
   "id": "1819fe38",
   "metadata": {},
   "outputs": [
    {
     "ename": "AssertionError",
     "evalue": "The eggs and bacon variables are the same!",
     "output_type": "error",
     "traceback": [
      "\u001b[1;31m---------------------------------------------------------------------------\u001b[0m",
      "\u001b[1;31mAssertionError\u001b[0m                            Traceback (most recent call last)",
      "Cell \u001b[1;32mIn [7], line 3\u001b[0m\n\u001b[0;32m      1\u001b[0m eggs  \u001b[38;5;241m=\u001b[39m \u001b[38;5;124m'\u001b[39m\u001b[38;5;124mHello\u001b[39m\u001b[38;5;124m'\u001b[39m\n\u001b[0;32m      2\u001b[0m bacon \u001b[38;5;241m=\u001b[39m \u001b[38;5;124m'\u001b[39m\u001b[38;5;124mHello\u001b[39m\u001b[38;5;124m'\u001b[39m\n\u001b[1;32m----> 3\u001b[0m \u001b[38;5;28;01massert\u001b[39;00m eggs\u001b[38;5;241m.\u001b[39mlower() \u001b[38;5;241m!=\u001b[39m bacon\u001b[38;5;241m.\u001b[39mlower(),  \u001b[38;5;124m'\u001b[39m\u001b[38;5;124mThe eggs and bacon variables are the same!\u001b[39m\u001b[38;5;124m'\u001b[39m \n\u001b[0;32m      4\u001b[0m \u001b[38;5;28;01massert\u001b[39;00m eggs\u001b[38;5;241m.\u001b[39mupper() \u001b[38;5;241m!=\u001b[39m bacon\u001b[38;5;241m.\u001b[39mupper(),  \u001b[38;5;124m'\u001b[39m\u001b[38;5;124mThe eggs and bacon variables are the same!\u001b[39m\u001b[38;5;124m'\u001b[39m\n",
      "\u001b[1;31mAssertionError\u001b[0m: The eggs and bacon variables are the same!"
     ]
    }
   ],
   "source": [
    "eggs  = 'Hello'\n",
    "bacon = 'Hello'\n",
    "assert eggs.lower() != bacon.lower(),  'The eggs and bacon variables are the same!' \n",
    "assert eggs.upper() != bacon.upper(),  'The eggs and bacon variables are the same!'"
   ]
  },
  {
   "cell_type": "markdown",
   "id": "ec234b71",
   "metadata": {},
   "source": [
    "#### Q3. Create an assert statement that throws an AssertionError every time."
   ]
  },
  {
   "cell_type": "markdown",
   "id": "5ce67cb5",
   "metadata": {},
   "source": [
    "+ assert False, 'This assertion always triggers.'"
   ]
  },
  {
   "cell_type": "markdown",
   "id": "2235519f",
   "metadata": {},
   "source": [
    "#### Q4. What are the two lines that must be present in your software in order to call logging.debug()?"
   ]
  },
  {
   "cell_type": "code",
   "execution_count": 9,
   "id": "08b44bab",
   "metadata": {},
   "outputs": [],
   "source": [
    "import logging\n",
    "logging.basicConfig(level=logging.DEBUG, format=' %(asctime)s -%(levelname)s - %(message)s')"
   ]
  },
  {
   "cell_type": "markdown",
   "id": "1a31d6ee",
   "metadata": {},
   "source": [
    "#### Q5. What are the two lines that your program must have in order to have logging.debug() send a logging message to a file named programLog.txt?"
   ]
  },
  {
   "cell_type": "markdown",
   "id": "53c60f31",
   "metadata": {},
   "source": [
    "1. DEBUG\n",
    "2. INFO\n",
    "3. WARNING\n",
    "4. ERROR\n",
    "5. CRITICAL"
   ]
  },
  {
   "cell_type": "markdown",
   "id": "9d858e66",
   "metadata": {},
   "source": [
    "#### Q6. What are the five levels of logging?"
   ]
  },
  {
   "cell_type": "markdown",
   "id": "4665f12d",
   "metadata": {},
   "source": [
    "+ NOTSET    =0\n",
    "+ DEBUG     =10\n",
    "+ INFO      =20\n",
    "+ WARN      =30\n",
    "+ ERROR     =40\n",
    "+ CRITICAL  =50"
   ]
  },
  {
   "cell_type": "markdown",
   "id": "072ecde8",
   "metadata": {},
   "source": [
    "#### Q7. What line of code would you add to your software to disable all logging messages?"
   ]
  },
  {
   "cell_type": "code",
   "execution_count": 10,
   "id": "4a29e789",
   "metadata": {},
   "outputs": [],
   "source": [
    "logging.shutdown()"
   ]
  },
  {
   "cell_type": "markdown",
   "id": "dc1296ef",
   "metadata": {},
   "source": [
    "#### Q8.Why is using logging messages better than using print() to display the same message?"
   ]
  },
  {
   "cell_type": "markdown",
   "id": "a856b796",
   "metadata": {},
   "source": [
    "+ Using logging at various step allows us to track exactly at which step our program has reached. \n",
    "+ print() can't be used at every step hence it can't help much in debugging the code."
   ]
  },
  {
   "cell_type": "markdown",
   "id": "fbbc015c",
   "metadata": {},
   "source": [
    "#### Q9. What are the differences between the Step Over, Step In, and Step Out buttons in the debugger?"
   ]
  },
  {
   "cell_type": "markdown",
   "id": "568f8459",
   "metadata": {},
   "source": [
    "+ Step Over -> Skips the current line and moves to next line even if it's a method. Skips whole method too.\n",
    "+ Step In   -> To look into method, we use Step In to see what's happening inside method.\n",
    "+ Step Out  -> Steps Our of the current function."
   ]
  },
  {
   "cell_type": "markdown",
   "id": "b2aeb3d1",
   "metadata": {},
   "source": [
    "#### Q10.After you click Continue, when will the debugger stop?"
   ]
  },
  {
   "cell_type": "markdown",
   "id": "540ee0f8",
   "metadata": {},
   "source": [
    "+ The debugger will stop when it has reached the end of the program or a line with a breakpoint."
   ]
  },
  {
   "cell_type": "markdown",
   "id": "958214fb",
   "metadata": {},
   "source": [
    "#### Q11. What is the concept of a breakpoint?"
   ]
  },
  {
   "cell_type": "markdown",
   "id": "95d3629c",
   "metadata": {},
   "source": [
    "+ Breakpoint allows us to pick a point from where we want to start debugging. \n",
    "+ In huge line of codes, it is necessary to have this feature."
   ]
  },
  {
   "cell_type": "markdown",
   "id": "b2ba47b8",
   "metadata": {},
   "source": [
    "# Thank you!"
   ]
  }
 ],
 "metadata": {
  "kernelspec": {
   "display_name": "Python 3 (ipykernel)",
   "language": "python",
   "name": "python3"
  },
  "language_info": {
   "codemirror_mode": {
    "name": "ipython",
    "version": 3
   },
   "file_extension": ".py",
   "mimetype": "text/x-python",
   "name": "python",
   "nbconvert_exporter": "python",
   "pygments_lexer": "ipython3",
   "version": "3.9.13"
  }
 },
 "nbformat": 4,
 "nbformat_minor": 5
}
