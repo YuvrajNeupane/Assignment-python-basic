{
 "cells": [
  {
   "cell_type": "markdown",
   "id": "7bd82077",
   "metadata": {},
   "source": [
    "### 1. In what modes should the PdfFileReader() and PdfFileWriter() File objects will be opened?"
   ]
  },
  {
   "cell_type": "markdown",
   "id": "7590f406",
   "metadata": {},
   "source": [
    "Ans. Using PyPDF2 library for 'PdfFileReader()' we can use 'rb' (read binary) and for PdfFileWriter() we can use 'wb' (write binary)"
   ]
  },
  {
   "cell_type": "markdown",
   "id": "8c853fc9",
   "metadata": {},
   "source": [
    "### 2. From a PdfFileReader object, how do you get a Page object for page 5?"
   ]
  },
  {
   "cell_type": "markdown",
   "id": "919f78e0",
   "metadata": {},
   "source": [
    "Ans: PdfFileReader class provides a method called getPage(5) to get a page object."
   ]
  },
  {
   "cell_type": "markdown",
   "id": "0e8c9348",
   "metadata": {},
   "source": [
    "### 3. What PdfFileReader variable stores the number of pages in the PDF document?"
   ]
  },
  {
   "cell_type": "markdown",
   "id": "fef2eb56",
   "metadata": {},
   "source": [
    "Ans. The PdfFileReader variable that stores the number of pages in a PDF document is numPages."
   ]
  },
  {
   "cell_type": "markdown",
   "id": "6b441cee",
   "metadata": {},
   "source": [
    "### 4. If a PdfFileReader object’s PDF is encrypted with the password swordfish, what must you do before you can obtain Page objects from it?"
   ]
  },
  {
   "cell_type": "markdown",
   "id": "97b95879",
   "metadata": {},
   "source": [
    "Ans. If PdfFileReader object encrypted with password, swordfish we need to decrypt it before obtain the page, To do so we must\n",
    "     need to do decrypt() method."
   ]
  },
  {
   "cell_type": "markdown",
   "id": "14cd507c",
   "metadata": {},
   "source": [
    "### 5. What methods do you use to rotate a page?"
   ]
  },
  {
   "cell_type": "markdown",
   "id": "0ae09062",
   "metadata": {},
   "source": [
    "Ans. In Python PyPDF2 library allows to do so, we can rotate page using rotateClockwise() and rotateCounterClockwise()."
   ]
  },
  {
   "cell_type": "markdown",
   "id": "03cc1313",
   "metadata": {},
   "source": [
    "### 6. What is the difference between a Run object and a Paragraph object?"
   ]
  },
  {
   "cell_type": "markdown",
   "id": "4f99bfe9",
   "metadata": {},
   "source": [
    "Ans. A Run object represents a formatted fragment of text within a paragraph, while a Paragraph object refers to a block of text      that is separated from other blocks of text. Runs handle formatting within a paragraph, while paragraphs handle the overall      structure and formatting of text content."
   ]
  },
  {
   "cell_type": "markdown",
   "id": "40520db6",
   "metadata": {},
   "source": [
    "### 7. How do you obtain a list of Paragraph objects for a Document object that’s stored in a variable named doc?"
   ]
  },
  {
   "cell_type": "code",
   "execution_count": null,
   "id": "d34cc7c2",
   "metadata": {},
   "outputs": [],
   "source": [
    "from docx import Document\n",
    "\n",
    "doc = Document(\"sample_file.docx\") # Path of the Docx file\n",
    "print(doc.paragraphs) # Prints the list of Paragraph objects for a Document\n",
    "for paragraph in doc.paragraphs:\n",
    "    print(paragraph.text) # Prints the text in the paragraph"
   ]
  },
  {
   "cell_type": "markdown",
   "id": "425956c6",
   "metadata": {},
   "source": [
    "### 8. What type of object has bold, underline, italic, strike, and outline variables?"
   ]
  },
  {
   "cell_type": "markdown",
   "id": "79372b76",
   "metadata": {},
   "source": [
    "Ans. Run object has (bold, underline, italic, strike, and outline) variable."
   ]
  },
  {
   "cell_type": "markdown",
   "id": "74b4a358",
   "metadata": {},
   "source": [
    "### 9. What is the difference between False, True, and None for the bold variable?"
   ]
  },
  {
   "cell_type": "markdown",
   "id": "8ce07dd6",
   "metadata": {},
   "source": [
    "    False: Bold formatting is disabled.\n",
    "    True: Bold formatting is enabled.\n",
    "    None: No specific value or instruction for bold formatting."
   ]
  },
  {
   "cell_type": "markdown",
   "id": "4c701926",
   "metadata": {},
   "source": [
    "### 10. How do you create a Document object for a new Word document?"
   ]
  },
  {
   "cell_type": "markdown",
   "id": "b7fb813e",
   "metadata": {},
   "source": [
    "Ans. By Using the docx.Document() function."
   ]
  },
  {
   "cell_type": "markdown",
   "id": "1be37050",
   "metadata": {},
   "source": [
    "### 11. How do you add a paragraph with the text &#39;Hello, there!&#39; to a Document object stored in a variable named doc?"
   ]
  },
  {
   "cell_type": "code",
   "execution_count": null,
   "id": "4570b7bc",
   "metadata": {},
   "outputs": [],
   "source": [
    "import docx\n",
    "doc = docx.Document()\n",
    "\n",
    "doc.add_paragraph('Hello there!')\n",
    "doc.save('hellothere.docx')"
   ]
  },
  {
   "cell_type": "markdown",
   "id": "5eacf2ca",
   "metadata": {},
   "source": [
    "### 12. What integers represent the levels of headings available in Word documents?"
   ]
  },
  {
   "cell_type": "markdown",
   "id": "bd709450",
   "metadata": {},
   "source": [
    "Ans. \n",
    "\n",
    "    integer from 0 to 4\n",
    "    The arguments to add_heading() are a string of the heading text and an integer from 0 to 4. The integer 0 makes the heading     the Title style, which is used for the top of the document. Integers 1 to 4 are for various heading levels, with 1 being the     main heading and 4 the lowest subheading\n",
    "\n"
   ]
  }
 ],
 "metadata": {
  "kernelspec": {
   "display_name": "Python 3 (ipykernel)",
   "language": "python",
   "name": "python3"
  },
  "language_info": {
   "codemirror_mode": {
    "name": "ipython",
    "version": 3
   },
   "file_extension": ".py",
   "mimetype": "text/x-python",
   "name": "python",
   "nbconvert_exporter": "python",
   "pygments_lexer": "ipython3",
   "version": "3.9.13"
  }
 },
 "nbformat": 4,
 "nbformat_minor": 5
}
