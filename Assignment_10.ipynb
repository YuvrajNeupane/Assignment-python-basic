{
 "cells": [
  {
   "cell_type": "markdown",
   "id": "377bbff8",
   "metadata": {},
   "source": [
    "#### Q1. How do you distinguish between shutil.copy() and shutil.copytree()?"
   ]
  },
  {
   "cell_type": "markdown",
   "id": "17e628ab",
   "metadata": {},
   "source": [
    "+ \"shutil.copy()\" will copy a single file.\n",
    "+ \"shutil.copytree()\" will copy an entire folder and every folder and file contained in it."
   ]
  },
  {
   "cell_type": "markdown",
   "id": "588338fb",
   "metadata": {},
   "source": [
    "#### Q2. What function is used to rename files??"
   ]
  },
  {
   "cell_type": "markdown",
   "id": "27b38a29",
   "metadata": {},
   "source": [
    "+ shutil.move will rename files.\n",
    "+ We can use like: os.rename('oldname','newname') function"
   ]
  },
  {
   "cell_type": "markdown",
   "id": "7bd2237b",
   "metadata": {},
   "source": [
    "#### Q3. What is the difference between the delete functions in the send2trash and shutil modules?"
   ]
  },
  {
   "cell_type": "markdown",
   "id": "d51d70b1",
   "metadata": {},
   "source": [
    "+ Files deleted via send2trash moves to recycle bin or Trash, instead of getting permanently deleted.\n",
    "+ shutil delete or remove function doesn't remove a file but whole directory and that too is permanent."
   ]
  },
  {
   "cell_type": "markdown",
   "id": "02a01c2d",
   "metadata": {},
   "source": [
    "#### Q4.ZipFile objects have a close() method just like File objects’ close() method. What ZipFile method is equivalent to File objects’ open() method?"
   ]
  },
  {
   "cell_type": "markdown",
   "id": "47e36448",
   "metadata": {},
   "source": [
    "+ ZipFile method is equivalant to File objects' open() method."
   ]
  },
  {
   "cell_type": "raw",
   "id": "b97b9652",
   "metadata": {},
   "source": [
    "import zipfile\n",
    "file_name = zipfile.ZipFile('new.zip', 'r')"
   ]
  },
  {
   "cell_type": "markdown",
   "id": "35b46316",
   "metadata": {},
   "source": [
    "# Thank you!"
   ]
  }
 ],
 "metadata": {
  "kernelspec": {
   "display_name": "Python 3 (ipykernel)",
   "language": "python",
   "name": "python3"
  },
  "language_info": {
   "codemirror_mode": {
    "name": "ipython",
    "version": 3
   },
   "file_extension": ".py",
   "mimetype": "text/x-python",
   "name": "python",
   "nbconvert_exporter": "python",
   "pygments_lexer": "ipython3",
   "version": "3.9.13"
  }
 },
 "nbformat": 4,
 "nbformat_minor": 5
}
