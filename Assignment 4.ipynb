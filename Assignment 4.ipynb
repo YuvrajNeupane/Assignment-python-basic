{
 "cells": [
  {
   "cell_type": "code",
   "execution_count": 1,
   "id": "5aa9033b",
   "metadata": {},
   "outputs": [],
   "source": [
    "import docx"
   ]
  },
  {
   "cell_type": "code",
   "execution_count": 2,
   "id": "c2e34dcf",
   "metadata": {
    "scrolled": true
   },
   "outputs": [
    {
     "name": "stdout",
     "output_type": "stream",
     "text": [
      "1. What exactly is []?\n",
      "2. In a list of values stored in a variable called spam, how would you assign the value 'hello' as the third value? (Assume [2, 4, 6, 8, 10] are in spam.)\n",
      "Let's pretend the spam includes the list ['a', 'b', 'c', 'd'] for the next three queries.\n",
      "3. What is the value of spam[int(int('3' * 2) / 11)]?\n",
      "4. What is the value of spam[-1]?\n",
      "5. What is the value of spam[:2]?\n",
      "Let's pretend bacon has the list [3.14, 'cat,' 11, 'cat,' True] for the next three questions.\n",
      "6. What is the value of bacon.index('cat')?\n",
      "7. How does bacon.append(99) change the look of the list value in bacon?\n",
      "8. How does bacon.remove('cat') change the look of the list in bacon?\n",
      "9. What are the list concatenation and list replication operators?\n",
      "10. What is difference between the list methods append() and insert()?\n",
      "11. What are the two methods for removing items from a list?\n",
      "12. Describe how list values and string values are identical.\n",
      "13. What's the difference between tuples and lists?\n",
      "14. How do you type a tuple value that only contains the integer 42?\n",
      "15. How do you get a list value's tuple form? How do you get a tuple value's list form?\n",
      "16. Variables that \"contain\" list values are not necessarily lists themselves. Instead, what do they contain?\n",
      "17. How do you distinguish between copy.copy() and copy.deepcopy()?\n",
      "\n"
     ]
    }
   ],
   "source": [
    "doc = docx.Document('Assignment_4.docx')\n",
    "for i in doc.paragraphs:\n",
    "    print(i.text)"
   ]
  },
  {
   "cell_type": "code",
   "execution_count": 4,
   "id": "eb215032",
   "metadata": {},
   "outputs": [
    {
     "name": "stdout",
     "output_type": "stream",
     "text": [
      "<class 'list'>\n"
     ]
    }
   ],
   "source": [
    "# 1. What exactly is []?\n",
    "\n",
    "#This is a Square bracket, but in python taken as list.\n",
    "a = []\n",
    "print(type(a))"
   ]
  },
  {
   "cell_type": "code",
   "execution_count": 5,
   "id": "4af3e8e8",
   "metadata": {},
   "outputs": [
    {
     "name": "stdout",
     "output_type": "stream",
     "text": [
      "[2, 4, 6, 'hello', 8, 10]\n",
      "hello\n"
     ]
    }
   ],
   "source": [
    "#2. In a list of values stored in a variable called spam, how would you assign the value \n",
    "#'hello' as the third value? (Assume [2, 4, 6, 8, 10] are in spam.\n",
    "\n",
    "spam = [2, 4, 6, 8, 10]\n",
    "spam.insert(3,'hello')\n",
    "print(spam)\n",
    "print(spam[3])"
   ]
  },
  {
   "cell_type": "markdown",
   "id": "f8d784f0",
   "metadata": {},
   "source": [
    "## #Let's pretend the spam includes the list ['a', 'b', 'c', 'd'] for the next three queries."
   ]
  },
  {
   "cell_type": "code",
   "execution_count": 6,
   "id": "58d13eb2",
   "metadata": {},
   "outputs": [],
   "source": [
    "spam = ['a', 'b', 'c', 'd']"
   ]
  },
  {
   "cell_type": "code",
   "execution_count": 7,
   "id": "39543ae2",
   "metadata": {},
   "outputs": [
    {
     "data": {
      "text/plain": [
       "'d'"
      ]
     },
     "execution_count": 7,
     "metadata": {},
     "output_type": "execute_result"
    }
   ],
   "source": [
    "# 3. What is the value of spam[int(int('3' * 2) / 11)]?\n",
    "spam[int(int('3' * 2) / 11)]"
   ]
  },
  {
   "cell_type": "code",
   "execution_count": 8,
   "id": "b831ef80",
   "metadata": {},
   "outputs": [
    {
     "data": {
      "text/plain": [
       "'d'"
      ]
     },
     "execution_count": 8,
     "metadata": {},
     "output_type": "execute_result"
    }
   ],
   "source": [
    "# 4. What is the value of spam[-1]?\n",
    "spam[-1]"
   ]
  },
  {
   "cell_type": "code",
   "execution_count": 9,
   "id": "eec6cb81",
   "metadata": {},
   "outputs": [
    {
     "data": {
      "text/plain": [
       "['a', 'b']"
      ]
     },
     "execution_count": 9,
     "metadata": {},
     "output_type": "execute_result"
    }
   ],
   "source": [
    "#5. What is the value of spam[:2]?\n",
    "spam[:2]"
   ]
  },
  {
   "cell_type": "markdown",
   "id": "d8e93f16",
   "metadata": {},
   "source": [
    "## Let's pretend bacon has the list [3.14, 'cat,' 11, 'cat,' True] for the next three questions.\n"
   ]
  },
  {
   "cell_type": "code",
   "execution_count": 10,
   "id": "b40c46d9",
   "metadata": {},
   "outputs": [],
   "source": [
    "bacon = [3.14, 'cat', 11, 'cat', True]"
   ]
  },
  {
   "cell_type": "code",
   "execution_count": 11,
   "id": "6196c60b",
   "metadata": {},
   "outputs": [
    {
     "name": "stdout",
     "output_type": "stream",
     "text": [
      "'cat'exist index number: 1\n"
     ]
    }
   ],
   "source": [
    "# 6. What is the value of bacon.index('cat')?\n",
    "print(\"'cat'exist index number:\", bacon.index('cat'))"
   ]
  },
  {
   "cell_type": "code",
   "execution_count": 12,
   "id": "cca39a36",
   "metadata": {},
   "outputs": [
    {
     "name": "stdout",
     "output_type": "stream",
     "text": [
      "[3.14, 'cat', 11, 'cat', True]\n",
      "[3.14, 'cat', 11, 'cat', True, 99]\n"
     ]
    }
   ],
   "source": [
    "# 7. How does bacon.append(99) change the look of the list value in bacon?\n",
    "print(bacon)\n",
    "bacon.append(99)\n",
    "print(bacon)"
   ]
  },
  {
   "cell_type": "code",
   "execution_count": 13,
   "id": "3b76d82e",
   "metadata": {},
   "outputs": [
    {
     "name": "stdout",
     "output_type": "stream",
     "text": [
      "[3.14, 'cat', 11, 'cat', True, 99]\n",
      "[3.14, 11, 'cat', True, 99]\n"
     ]
    }
   ],
   "source": [
    "# 8. How does bacon.remove('cat') change the look of the list in bacon?\n",
    "print(bacon)\n",
    "bacon.remove('cat')\n",
    "print(bacon)"
   ]
  },
  {
   "cell_type": "markdown",
   "id": "3b06ee6d",
   "metadata": {},
   "source": [
    "bacon.remove pass first index 'cat' only."
   ]
  },
  {
   "cell_type": "markdown",
   "id": "4276a511",
   "metadata": {},
   "source": [
    "###### 9. What are the list concatenation and list replication operators?"
   ]
  },
  {
   "cell_type": "code",
   "execution_count": 14,
   "id": "e60f2bd3",
   "metadata": {},
   "outputs": [
    {
     "name": "stdout",
     "output_type": "stream",
     "text": [
      "[1, 2, 3, 5, 6, 7, 11, 22, 33]\n"
     ]
    }
   ],
   "source": [
    "#In Python Concatenation concat (add or merge) the two or more variables or list,\n",
    "#Exp:-\n",
    "\n",
    "a = [1,2,3]\n",
    "b = [5,6,7]\n",
    "c = [11,22,33]\n",
    "d = a+b+c\n",
    "print(d)"
   ]
  },
  {
   "cell_type": "markdown",
   "id": "8049fdc4",
   "metadata": {},
   "source": [
    "###### 10. What is difference between the list methods append() and insert()?"
   ]
  },
  {
   "cell_type": "code",
   "execution_count": 15,
   "id": "7bad8ea0",
   "metadata": {},
   "outputs": [
    {
     "name": "stdout",
     "output_type": "stream",
     "text": [
      "['good', 'batter', 'best']\n",
      "['good', 'batter', 'best', 'awsome']\n",
      "['good', 'batter', 'thank you', 'best', 'awsome']\n"
     ]
    }
   ],
   "source": [
    "# Let's take a example first:\n",
    "ineuron = ['good','batter','best']\n",
    "print(ineuron)\n",
    "\n",
    "# append method\n",
    "ineuron.append('awsome')\n",
    "print(ineuron)\n",
    "\n",
    "#insert method\n",
    "ineuron.insert(2,'thank you')\n",
    "print(ineuron)"
   ]
  },
  {
   "cell_type": "markdown",
   "id": "e08fc243",
   "metadata": {},
   "source": [
    "So here list.append add values at the end index, and list.insert need first index number to add any value."
   ]
  },
  {
   "cell_type": "markdown",
   "id": "7de2e8cf",
   "metadata": {},
   "source": [
    "###### 11. What are the two methods for removing items from a list?"
   ]
  },
  {
   "cell_type": "markdown",
   "id": "3c16e4bb",
   "metadata": {},
   "source": [
    "Here is two method of removing items from the list\n",
    "1. list.pop()\n",
    "2. list.clear()"
   ]
  },
  {
   "cell_type": "markdown",
   "id": "49722fe5",
   "metadata": {},
   "source": [
    "###### 12. Describe how list values and string values are identical."
   ]
  },
  {
   "cell_type": "markdown",
   "id": "f4427638",
   "metadata": {},
   "source": [
    "1. List can store many types of data.\n",
    "2. string values store with single or double quotes.\n",
    "3. Can change others data in string value use str(list[index number of value])\n",
    "4. Can't operate arithmetic operation with string values."
   ]
  },
  {
   "cell_type": "markdown",
   "id": "6e6d3455",
   "metadata": {},
   "source": [
    "###### 13. What's the difference between tuples and lists?"
   ]
  },
  {
   "cell_type": "markdown",
   "id": "8e4c18c6",
   "metadata": {},
   "source": [
    "#Tuple:\n",
    "1. Tuple is immutable(once it created cannot change again).\n",
    "2. Tuple creates using small brackets ().\n",
    "3. Tuple can store multitype date.\n",
    "\n",
    "#List:\n",
    "1. List is  mutable(List can modify multiple times).\n",
    "2. List creates using square brackets [].\n",
    "3. List also can store multitype values."
   ]
  },
  {
   "cell_type": "markdown",
   "id": "e66d183f",
   "metadata": {},
   "source": [
    "###### 14. How do you type a tuple value that only contains the integer 42?"
   ]
  },
  {
   "cell_type": "code",
   "execution_count": 16,
   "id": "61e28646",
   "metadata": {},
   "outputs": [
    {
     "name": "stdout",
     "output_type": "stream",
     "text": [
      "(42,)\n"
     ]
    },
    {
     "data": {
      "text/plain": [
       "tuple"
      ]
     },
     "execution_count": 16,
     "metadata": {},
     "output_type": "execute_result"
    }
   ],
   "source": [
    "tupl = (42,)\n",
    "print(tupl)\n",
    "type(tupl)"
   ]
  },
  {
   "cell_type": "markdown",
   "id": "53f0eaba",
   "metadata": {},
   "source": [
    "###### 15. How do you get a list value's tuple form? How do you get a tuple value's list form?"
   ]
  },
  {
   "cell_type": "code",
   "execution_count": 17,
   "id": "e391b5e1",
   "metadata": {},
   "outputs": [
    {
     "name": "stdout",
     "output_type": "stream",
     "text": [
      "This is a list [11, 22, 33, 44, 'iNeuron']\n",
      "This is a tuple (11, 22, 33, 44, 'iNeuron')\n",
      "<class 'list'>\n",
      "<class 'tuple'> \n",
      "\n",
      "This is a tupple: ('iNeuron', 'one', 2, 3, 4)\n",
      "This is a list: ['iNeuron', 'one', 2, 3, 4]\n",
      "<class 'tuple'>\n",
      "<class 'list'>\n"
     ]
    }
   ],
   "source": [
    "a = [11, 22, 33, 44,'iNeuron']\n",
    "\n",
    "b = tuple(a)\n",
    "\n",
    "print('This is a list',a)\n",
    "print('This is a tuple',b)\n",
    "print(type(a))\n",
    "print(type(b),'\\n')\n",
    "\n",
    "c = ('iNeuron', 'one',2,3,4)\n",
    "d = list(c)\n",
    "print('This is a tupple:',c)\n",
    "print('This is a list:',d)\n",
    "print(type(c))\n",
    "print(type(d))"
   ]
  },
  {
   "cell_type": "markdown",
   "id": "6cafad77",
   "metadata": {},
   "source": [
    "###### 16. Variables that \"contain\" list values are not necessarily lists themselves. Instead, what do they contain?"
   ]
  },
  {
   "cell_type": "markdown",
   "id": "d711c347",
   "metadata": {},
   "source": [
    "##If Variables contain nothing with a list then that called empty list or contain themselves value other than (str, int, bool)"
   ]
  },
  {
   "cell_type": "markdown",
   "id": "0f573c2f",
   "metadata": {},
   "source": [
    "###### 17. How do you distinguish between copy.copy() and copy.deepcopy()?"
   ]
  },
  {
   "cell_type": "markdown",
   "id": "1c004ba1",
   "metadata": {},
   "source": [
    "1.The copy.copy() function will do a shallow copy of a list,\n",
    "2.The copy.deepcopy() function will do a deep copy of a list and also it can copy the list within the list"
   ]
  }
 ],
 "metadata": {
  "kernelspec": {
   "display_name": "Python 3 (ipykernel)",
   "language": "python",
   "name": "python3"
  },
  "language_info": {
   "codemirror_mode": {
    "name": "ipython",
    "version": 3
   },
   "file_extension": ".py",
   "mimetype": "text/x-python",
   "name": "python",
   "nbconvert_exporter": "python",
   "pygments_lexer": "ipython3",
   "version": "3.9.12"
  }
 },
 "nbformat": 4,
 "nbformat_minor": 5
}
