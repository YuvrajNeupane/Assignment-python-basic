{
 "cells": [
  {
   "cell_type": "markdown",
   "id": "22f5663c",
   "metadata": {},
   "source": [
    "#### Q1. To what does a relative path refer?"
   ]
  },
  {
   "cell_type": "markdown",
   "id": "f2f5706c",
   "metadata": {},
   "source": [
    "+ relative path related to current working directory. "
   ]
  },
  {
   "cell_type": "markdown",
   "id": "5f251418",
   "metadata": {},
   "source": [
    "#### Q2. What does an absolute path start with your operating system?"
   ]
  },
  {
   "cell_type": "markdown",
   "id": "6f30c30d",
   "metadata": {},
   "source": [
    "+ Absolute paths start with the root folder, such as / or C:. An absolute path always contains the root elements and the complete list of directories to locate the specific file or folder. All the information required to locate the file or folder is available in the absolute path."
   ]
  },
  {
   "cell_type": "markdown",
   "id": "170da704",
   "metadata": {},
   "source": [
    "#### Q3. What do the functions os.getcwd() and os.chdir() do?"
   ]
  },
  {
   "cell_type": "markdown",
   "id": "1bb99072",
   "metadata": {},
   "source": [
    "+ os.getcwd()  > gets us the current working directory. <br/>\n",
    "+ os.chdir()      > Allows us to change the current directory to specified path"
   ]
  },
  {
   "cell_type": "markdown",
   "id": "ee635f7c",
   "metadata": {},
   "source": [
    "#### Q4. What are the . and .. folders?"
   ]
  },
  {
   "cell_type": "markdown",
   "id": "3445ff86",
   "metadata": {},
   "source": [
    "+ (.) refers to current directory folder.\n",
    "+ (..) refers to parent directory folder."
   ]
  },
  {
   "cell_type": "markdown",
   "id": "5486b029",
   "metadata": {},
   "source": [
    "#### Q5. In C:\\bacon\\eggs\\spam.txt, which part is the dir name, and which part is the base name?"
   ]
  },
  {
   "cell_type": "markdown",
   "id": "da408bfe",
   "metadata": {},
   "source": [
    "+ C:\\bacon\\eggs is the dir name,<br/> \n",
    "+ while spam.txt is the base name.\n"
   ]
  },
  {
   "cell_type": "markdown",
   "id": "922109aa",
   "metadata": {},
   "source": [
    "#### Q6. What are the three “mode” arguments that can be passed to the open() function?"
   ]
  },
  {
   "cell_type": "markdown",
   "id": "0ad209ee",
   "metadata": {},
   "source": [
    "###### ->This are three arguments we use for:\n",
    "+ 'r' for read mode, \n",
    "+ 'w' for write mode,\n",
    "+ 'a' for append mode"
   ]
  },
  {
   "cell_type": "markdown",
   "id": "4e220080",
   "metadata": {},
   "source": [
    "#### Q7. What happens if an existing file is opened in write mode?"
   ]
  },
  {
   "cell_type": "markdown",
   "id": "ca0cfe7d",
   "metadata": {},
   "source": [
    "+ An existing file opened in write mode is erased and completely overwritten."
   ]
  },
  {
   "cell_type": "markdown",
   "id": "af23b040",
   "metadata": {},
   "source": [
    "#### Q8. How do you tell the difference between read() and readlines()?"
   ]
  },
  {
   "cell_type": "markdown",
   "id": "f5fa3c61",
   "metadata": {},
   "source": [
    "+ read() reads the entire file as it is written and gives output in same format.\n",
    "+ readlines() also reads the entile file but gives output in one list where each line is considered a separate element.\n",
    "\n"
   ]
  },
  {
   "cell_type": "markdown",
   "id": "378e837c",
   "metadata": {},
   "source": [
    "#### Q9. What data structure does a shelf value resemble?"
   ]
  },
  {
   "cell_type": "markdown",
   "id": "8531ed50",
   "metadata": {},
   "source": [
    "+ shelf value comes under shelve module where data is stored like in a shelf.\n",
    "+ shels acts or resembles like dictionary-type object."
   ]
  },
  {
   "cell_type": "markdown",
   "id": "5e2927b9",
   "metadata": {},
   "source": [
    "# Thank you!"
   ]
  }
 ],
 "metadata": {
  "kernelspec": {
   "display_name": "Python 3 (ipykernel)",
   "language": "python",
   "name": "python3"
  },
  "language_info": {
   "codemirror_mode": {
    "name": "ipython",
    "version": 3
   },
   "file_extension": ".py",
   "mimetype": "text/x-python",
   "name": "python",
   "nbconvert_exporter": "python",
   "pygments_lexer": "ipython3",
   "version": "3.9.13"
  }
 },
 "nbformat": 4,
 "nbformat_minor": 5
}
