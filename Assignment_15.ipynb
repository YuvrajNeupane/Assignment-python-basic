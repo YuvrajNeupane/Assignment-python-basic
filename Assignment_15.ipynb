{
 "cells": [
  {
   "cell_type": "markdown",
   "id": "02761d98",
   "metadata": {},
   "source": [
    "#### 1.How many seconds are in an hour? Use the interactive interpreter as a calculator and multiply the number of seconds in a minute (60) by the number of minutes in an hour (also 60). sol. 60"
   ]
  },
  {
   "cell_type": "markdown",
   "id": "1325edcf",
   "metadata": {},
   "source": [
    "~ Ans. "
   ]
  },
  {
   "cell_type": "code",
   "execution_count": 6,
   "id": "8f2bdd32",
   "metadata": {},
   "outputs": [
    {
     "name": "stdout",
     "output_type": "stream",
     "text": [
      "one minute = 60 seconds and one hour = 60 minute, so that 60 x 60 would: 3600 seconds in 1 hour.\n"
     ]
    }
   ],
   "source": [
    "one_min = 60 #sec\n",
    "one_hour = 60 #min\n",
    "\n",
    "print('one minute = 60 seconds and one hour = 60 minute, so that 60 x 60 would:', one_min * one_hour, 'seconds in 1 hour.')"
   ]
  },
  {
   "cell_type": "markdown",
   "id": "d292159e",
   "metadata": {},
   "source": [
    "#### 2. Assign the result from the previous task (seconds in an hour) to a variable called seconds_per_hour."
   ]
  },
  {
   "cell_type": "code",
   "execution_count": 9,
   "id": "e54ecbec",
   "metadata": {},
   "outputs": [
    {
     "name": "stdout",
     "output_type": "stream",
     "text": [
      "3600\n"
     ]
    }
   ],
   "source": [
    "seconds_per_hour = one_min*one_hour\n",
    "print(seconds_per_hour)"
   ]
  },
  {
   "cell_type": "markdown",
   "id": "6d905a3d",
   "metadata": {},
   "source": [
    "#### 3. How many seconds do you think there are in a day? Make use of the variables seconds per hour and minutes per hour."
   ]
  },
  {
   "cell_type": "code",
   "execution_count": 13,
   "id": "40632bc7",
   "metadata": {},
   "outputs": [
    {
     "name": "stdout",
     "output_type": "stream",
     "text": [
      "86400 Second in a day.\n"
     ]
    }
   ],
   "source": [
    "one_day_hrs = 24\n",
    "print(seconds_per_hour * one_day_hrs,'Second in a day.')"
   ]
  },
  {
   "cell_type": "markdown",
   "id": "eea6eec2",
   "metadata": {},
   "source": [
    "#### 4. Calculate seconds per day again, but this time save the result in a variable called seconds_per_day"
   ]
  },
  {
   "cell_type": "code",
   "execution_count": 19,
   "id": "16ef5b03",
   "metadata": {},
   "outputs": [
    {
     "name": "stdout",
     "output_type": "stream",
     "text": [
      "sec_per_day: 86400\n"
     ]
    }
   ],
   "source": [
    "seconds_per_day = one_day_hrs * seconds_per_hour\n",
    "\n",
    "print('sec_per_day:',seconds_per_day)"
   ]
  },
  {
   "cell_type": "markdown",
   "id": "5c92fefd",
   "metadata": {},
   "source": [
    "#### 5. Divide seconds_per_day by seconds_per_hour. Use floating-point (/) division."
   ]
  },
  {
   "cell_type": "code",
   "execution_count": 22,
   "id": "3b20b141",
   "metadata": {},
   "outputs": [
    {
     "name": "stdout",
     "output_type": "stream",
     "text": [
      "This is one day: 24.0\n"
     ]
    }
   ],
   "source": [
    "one_day = seconds_per_day/seconds_per_hour\n",
    "print('This is one day:', one_day)"
   ]
  },
  {
   "cell_type": "markdown",
   "id": "8c77196d",
   "metadata": {},
   "source": [
    "#### 6. Divide seconds_per_day by seconds_per_hour, using integer (//) division. Did this number agree with the floating-point value from the previous question, aside from the final .0?"
   ]
  },
  {
   "cell_type": "code",
   "execution_count": 30,
   "id": "0a4a84d0",
   "metadata": {},
   "outputs": [
    {
     "name": "stdout",
     "output_type": "stream",
     "text": [
      "=> 24  Yes, // (float division) operator operat the two number and round the resuld in integers.\n"
     ]
    }
   ],
   "source": [
    "print('=>',seconds_per_day//seconds_per_hour, end=' ')\n",
    "print(' Yes, // (float division) operator operat the two number and round the resuld in integers.')"
   ]
  },
  {
   "cell_type": "markdown",
   "id": "76f06e06",
   "metadata": {},
   "source": [
    "#### 7. Write a generator, genPrimes, that returns the sequence of prime numbers on successive calls to its next() method: 2, 3, 5, 7, 11, ..."
   ]
  },
  {
   "cell_type": "code",
   "execution_count": 49,
   "id": "45a57867",
   "metadata": {},
   "outputs": [
    {
     "name": "stdout",
     "output_type": "stream",
     "text": [
      "Prime numbers:\n",
      "2\n",
      "3\n",
      "5\n",
      "7\n",
      "11\n",
      "13\n",
      "17\n",
      "19\n",
      "23\n",
      "29\n",
      "31\n",
      "37\n",
      "41\n",
      "43\n",
      "47\n",
      "53\n",
      "59\n",
      "61\n",
      "67\n",
      "71\n",
      "73\n",
      "79\n",
      "83\n",
      "89\n",
      "97\n"
     ]
    }
   ],
   "source": [
    "def genPrimes(n):\n",
    "    print('Prime numbers:')\n",
    "    for i in range(2, n+1 ):\n",
    "        if i >1:\n",
    "            for j in range(2,i):\n",
    "                if(i%j) == 0:\n",
    "                    break\n",
    "            else:\n",
    "                print(i)\n",
    "genPrimes(100)"
   ]
  },
  {
   "cell_type": "markdown",
   "id": "8f849692",
   "metadata": {},
   "source": [
    "## thank you."
   ]
  }
 ],
 "metadata": {
  "kernelspec": {
   "display_name": "Python 3 (ipykernel)",
   "language": "python",
   "name": "python3"
  },
  "language_info": {
   "codemirror_mode": {
    "name": "ipython",
    "version": 3
   },
   "file_extension": ".py",
   "mimetype": "text/x-python",
   "name": "python",
   "nbconvert_exporter": "python",
   "pygments_lexer": "ipython3",
   "version": "3.9.13"
  }
 },
 "nbformat": 4,
 "nbformat_minor": 5
}
