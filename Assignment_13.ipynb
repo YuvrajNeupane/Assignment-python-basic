{
 "cells": [
  {
   "cell_type": "markdown",
   "id": "1ce62969",
   "metadata": {},
   "source": [
    "# Assignment_13"
   ]
  },
  {
   "cell_type": "markdown",
   "id": "1c880c07",
   "metadata": {},
   "source": [
    "### 1. What advantages do Excel spreadsheets have over CSV spreadsheets?"
   ]
  },
  {
   "cell_type": "code",
   "execution_count": null,
   "id": "09d37472",
   "metadata": {},
   "outputs": [],
   "source": [
    "    Excel provides structured in spreadsheets\n",
    "    Excel has wide range of built-in formulas and functions that allow for data manipulation, calculations, and analysis\n",
    "    Excel provides options for formatting cells, applying custom number formats, setting conditional formatting rules, \n",
    "        and adding visual elements such as charts, graphs, and images"
   ]
  },
  {
   "cell_type": "markdown",
   "id": "56b7ad9f",
   "metadata": {},
   "source": [
    "### 2.What do you pass to csv.reader() and csv.writer() to create reader and writer objects?"
   ]
  },
  {
   "cell_type": "code",
   "execution_count": null,
   "id": "e506459b",
   "metadata": {},
   "outputs": [],
   "source": [
    "#import library called csv\n",
    "import csv\n",
    "\n",
    "# for read csv file\n",
    "variable_name = csv.reader(file)\n",
    "\n",
    "# for write csv file\n",
    "variable_name = csv.write(file)"
   ]
  },
  {
   "cell_type": "markdown",
   "id": "d3c131c1",
   "metadata": {},
   "source": [
    "### 3. What modes do File objects for reader and writer objects need to be opened in?"
   ]
  },
  {
   "cell_type": "code",
   "execution_count": null,
   "id": "db440547",
   "metadata": {},
   "outputs": [],
   "source": [
    "    For Reader Object:\n",
    "        The file object should be opened in text mode with the mode 'r' or 'rt'.\n",
    "        Example: file_object = open('data.csv', 'r')\n",
    "\n",
    "    For Writer Object:\n",
    "        The file object should be opened in text mode with the mode 'w' or 'wt'.\n",
    "        Example: file_object = open('output.csv', 'w')"
   ]
  },
  {
   "cell_type": "markdown",
   "id": "ffaeb8aa",
   "metadata": {},
   "source": [
    "### 4. What method takes a list argument and writes it to a CSV file?"
   ]
  },
  {
   "cell_type": "code",
   "execution_count": null,
   "id": "1cf036b4",
   "metadata": {},
   "outputs": [],
   "source": [
    "#The writerow() method\n",
    "variable_1 = open('file_name.csv','w')\n",
    "variable_2 = csv.writer(variable_1)\n",
    "csv.writer(File_abc).writerow(['man','trees','animals'])"
   ]
  },
  {
   "cell_type": "markdown",
   "id": "95d6416d",
   "metadata": {},
   "source": [
    "### 5. What do the keyword arguments delimiter and line terminator do?"
   ]
  },
  {
   "cell_type": "markdown",
   "id": "d2f407ec",
   "metadata": {},
   "source": [
    "###### delimiter: The delimiter argument specifies the character or sequence of characters that separate individual fields within a row.\n",
    "\n",
    "###### line terminator: The line terminator argument defines the character or sequence of characters that mark the end of a line in the file.  \n",
    "    \n",
    "    \n",
    "    "
   ]
  },
  {
   "cell_type": "markdown",
   "id": "538e142c",
   "metadata": {},
   "source": [
    "### 6. What function takes a string of JSON data and returns a Python data structure?"
   ]
  },
  {
   "cell_type": "code",
   "execution_count": null,
   "id": "4b6d7fed",
   "metadata": {},
   "outputs": [],
   "source": [
    "Ans. For the JSON data we used jason.loads()"
   ]
  },
  {
   "cell_type": "markdown",
   "id": "b9f51f5f",
   "metadata": {},
   "source": [
    "### 7. What function takes a Python data structure and returns a string of JSON data?"
   ]
  },
  {
   "cell_type": "code",
   "execution_count": null,
   "id": "a3ac5205",
   "metadata": {},
   "outputs": [],
   "source": [
    "Ans. json.dumps()"
   ]
  },
  {
   "cell_type": "markdown",
   "id": "883c7ed5",
   "metadata": {},
   "source": [
    "#### Thank you."
   ]
  }
 ],
 "metadata": {
  "kernelspec": {
   "display_name": "Python 3 (ipykernel)",
   "language": "python",
   "name": "python3"
  },
  "language_info": {
   "codemirror_mode": {
    "name": "ipython",
    "version": 3
   },
   "file_extension": ".py",
   "mimetype": "text/x-python",
   "name": "python",
   "nbconvert_exporter": "python",
   "pygments_lexer": "ipython3",
   "version": "3.9.13"
  }
 },
 "nbformat": 4,
 "nbformat_minor": 5
}
